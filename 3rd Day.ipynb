{
 "cells": [
  {
   "cell_type": "code",
   "execution_count": 1,
   "id": "de25bc61-af53-439c-8d79-ed15c6832eef",
   "metadata": {},
   "outputs": [
    {
     "name": "stdin",
     "output_type": "stream",
     "text": [
      "the first number 23\n",
      "the second number 54\n"
     ]
    },
    {
     "name": "stdout",
     "output_type": "stream",
     "text": [
      "largest number: 54\n"
     ]
    }
   ],
   "source": [
    "#largest number of two numbers\n",
    "a=int(input(\"the first number\"))\n",
    "b=int(input(\"the second number\"))\n",
    "if(a>b):\n",
    "    print(\"largest number:\", a)\n",
    "else:\n",
    "    print(\"largest number:\", b)"
   ]
  },
  {
   "cell_type": "code",
   "execution_count": 3,
   "id": "5e7ae529-b176-4080-9864-f03068bc27ad",
   "metadata": {},
   "outputs": [
    {
     "name": "stdout",
     "output_type": "stream",
     "text": [
      "0 1 1 2 3 5 8 13 21 34 "
     ]
    }
   ],
   "source": [
    "#fabonacci series\n",
    "a,b=0,1\n",
    "for i in range(10):\n",
    "    print(a, end=\" \")\n",
    "    a, b=b, a+b"
   ]
  },
  {
   "cell_type": "code",
   "execution_count": 6,
   "id": "1f48c78a-4e70-45e0-91b7-1e86da90b61c",
   "metadata": {},
   "outputs": [
    {
     "name": "stdin",
     "output_type": "stream",
     "text": [
      "enter a number 345\n"
     ]
    },
    {
     "name": "stdout",
     "output_type": "stream",
     "text": [
      "Reversed number: 543\n"
     ]
    }
   ],
   "source": [
    "# Reverse a Number\n",
    "a=int(input(\"enter a number\"))\n",
    "rev=0\n",
    "while(a>0):\n",
    "    digit=a%10\n",
    "    rev=rev*10+digit\n",
    "    a//=10\n",
    "print(\"Reversed number:\", rev)"
   ]
  },
  {
   "cell_type": "code",
   "execution_count": 8,
   "id": "8a0bb5e4-d66b-4da7-b680-5d12187d0abc",
   "metadata": {},
   "outputs": [
    {
     "name": "stdin",
     "output_type": "stream",
     "text": [
      "enter any number 121\n"
     ]
    },
    {
     "name": "stdout",
     "output_type": "stream",
     "text": [
      "palingdrome\n"
     ]
    }
   ],
   "source": [
    "#number is a palindrome number\n",
    "a=int(input(\"enter any number\"))\n",
    "original=a\n",
    "rev=0\n",
    "while(a>0):\n",
    "    rev=rev*10+a%10\n",
    "    a//=10\n",
    "if(rev==original):\n",
    "    print(\"palingdrome\")\n",
    "else:\n",
    "    print(\"not palingdrome\")"
   ]
  },
  {
   "cell_type": "code",
   "execution_count": 9,
   "id": "5ea078c7-5712-409e-861e-2aabbc073d76",
   "metadata": {},
   "outputs": [
    {
     "name": "stdin",
     "output_type": "stream",
     "text": [
      "enter any number 12345\n"
     ]
    },
    {
     "name": "stdout",
     "output_type": "stream",
     "text": [
      "number of digits: 5\n"
     ]
    }
   ],
   "source": [
    "#count number of digits\n",
    "a=int(input(\"enter any number\"))\n",
    "count=0\n",
    "while(a>0):\n",
    "    a//=10\n",
    "    count=count+1\n",
    "print(\"number of digits:\", count)"
   ]
  },
  {
   "cell_type": "code",
   "execution_count": 11,
   "id": "951d1243-ca62-461e-91d8-99160c65b27c",
   "metadata": {},
   "outputs": [
    {
     "name": "stdout",
     "output_type": "stream",
     "text": [
      "[2, 4, 6, 8, 10, 12, 14, 16, 18, 20, 22, 24, 26, 28, 30, 32, 34, 36, 38, 40, 42, 44, 46, 48, 50, 52, 54, 56, 58, 60, 62, 64, 66, 68, 70, 72, 74, 76, 78, 80, 82, 84, 86, 88, 90, 92, 94, 96, 98, 100]\n"
     ]
    }
   ],
   "source": [
    "#print all even numbers in detween 1 to 101\n",
    "l1=list()\n",
    "for i in range(1,101):\n",
    "    if(i%2==0):\n",
    "        l1.append(i)\n",
    "print(l1)"
   ]
  },
  {
   "cell_type": "code",
   "execution_count": 12,
   "id": "72d9e587-f055-4c39-946c-9f047f19ee9e",
   "metadata": {},
   "outputs": [
    {
     "name": "stdout",
     "output_type": "stream",
     "text": [
      "[1, 3, 5, 7, 9, 11, 13, 15, 17, 19, 21, 23, 25, 27, 29, 31, 33, 35, 37, 39, 41, 43, 45, 47, 49, 51, 53, 55, 57, 59, 61, 63, 65, 67, 69, 71, 73, 75, 77, 79, 81, 83, 85, 87, 89, 91, 93, 95, 97, 99]\n"
     ]
    }
   ],
   "source": [
    "#print all odd numbers in detween 1 to 101\n",
    "l1=list()\n",
    "for i in range(1,101):\n",
    "    if(i%2!=0):\n",
    "        l1.append(i)\n",
    "print(l1)"
   ]
  },
  {
   "cell_type": "code",
   "execution_count": 1,
   "id": "9facc29a-6b9a-427f-90c7-547a7c9e72cb",
   "metadata": {},
   "outputs": [
    {
     "name": "stdout",
     "output_type": "stream",
     "text": [
      "[2, 3, 5, 7, 11, 13, 17, 19, 23, 29, 31, 37, 41, 43, 47]\n"
     ]
    }
   ],
   "source": [
    "#print all prime numbers in detween 1 to 50\n",
    "l1=list()\n",
    "for i in range(2,50):\n",
    "    for j in range(2,i):\n",
    "        if(i%j==0):\n",
    "            break\n",
    "    else:\n",
    "        l1.append(i)\n",
    "print(l1)\n",
    "            "
   ]
  },
  {
   "cell_type": "code",
   "execution_count": 19,
   "id": "f18cb8a4-f717-4f4b-a7d2-75d9b11c9677",
   "metadata": {},
   "outputs": [
    {
     "name": "stdin",
     "output_type": "stream",
     "text": [
      "enter first number 4\n",
      "enter second number 5\n",
      "enter operator (+, -, *, /) +\n"
     ]
    },
    {
     "name": "stdout",
     "output_type": "stream",
     "text": [
      "9\n",
      "result: None\n"
     ]
    }
   ],
   "source": [
    "#print simple calculator with basic operator\n",
    "a=int(input(\"enter first number\"))\n",
    "b=int(input(\"enter second number\"))\n",
    "op=input(\"enter operator (+, -, *, /)\")\n",
    "def calculator(a,b,op):\n",
    "    if(op=='+'):\n",
    "        print(a+b)\n",
    "    elif(op=='-'):\n",
    "        print(a-b)\n",
    "    elif(op=='*'):\n",
    "        print(a*b)\n",
    "    elif(op=='/'):\n",
    "        print(a/b)\n",
    "    else:\n",
    "        print(\"invalid operator\")\n",
    "print(\"result:\", calculator(a,b,op))\n",
    "        "
   ]
  },
  {
   "cell_type": "code",
   "execution_count": 6,
   "id": "979f4d8e-e5b0-452a-8b3e-280f54306120",
   "metadata": {},
   "outputs": [
    {
     "name": "stdin",
     "output_type": "stream",
     "text": [
      "Guess the number:  12\n",
      "Guess the number:  32\n",
      "Guess the number:  21\n",
      "Guess the number:  213\n",
      "Guess the number:  123\n",
      "Guess the number:  223\n",
      "Guess the number:  7\n"
     ]
    },
    {
     "name": "stdout",
     "output_type": "stream",
     "text": [
      "You guessed it!\n"
     ]
    }
   ],
   "source": [
    "## guessing game\n",
    "secret_number = 7\n",
    "guess = None\n",
    "while guess != secret_number:\n",
    "    guess = int(input(\"Guess the number: \"))\n",
    "print(\"You guessed it!\")\n"
   ]
  },
  {
   "cell_type": "code",
   "execution_count": null,
   "id": "27a54d9e-9a48-431e-aac2-1064604121f9",
   "metadata": {},
   "outputs": [],
   "source": []
  }
 ],
 "metadata": {
  "kernelspec": {
   "display_name": "Python 3 (ipykernel)",
   "language": "python",
   "name": "python3"
  },
  "language_info": {
   "codemirror_mode": {
    "name": "ipython",
    "version": 3
   },
   "file_extension": ".py",
   "mimetype": "text/x-python",
   "name": "python",
   "nbconvert_exporter": "python",
   "pygments_lexer": "ipython3",
   "version": "3.13.5"
  }
 },
 "nbformat": 4,
 "nbformat_minor": 5
}
