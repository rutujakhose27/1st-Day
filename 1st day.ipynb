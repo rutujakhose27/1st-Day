{
 "cells": [
  {
   "cell_type": "code",
   "execution_count": 19,
   "id": "c054649a-2363-42af-8ac4-7e0adbff646e",
   "metadata": {},
   "outputs": [
    {
     "name": "stdout",
     "output_type": "stream",
     "text": [
      "the sum is: 35\n"
     ]
    }
   ],
   "source": [
    "#write the sum of number of list \n",
    "list1=[2,3,4,5,6,7,8]\n",
    "sum=0\n",
    "for i in list1:\n",
    "    sum=sum+i\n",
    "print(\"the sum is:\",sum)\n",
    "    "
   ]
  },
  {
   "cell_type": "code",
   "execution_count": 20,
   "id": "da776211-1a60-4e5d-8af4-a9674632d74d",
   "metadata": {},
   "outputs": [
    {
     "name": "stdin",
     "output_type": "stream",
     "text": [
      "enter first number 89\n",
      "enter second number 34\n",
      "enter third number 93\n"
     ]
    },
    {
     "name": "stdout",
     "output_type": "stream",
     "text": [
      "93 is greter\n"
     ]
    }
   ],
   "source": [
    "#write greter number \n",
    "a=int(input(\"enter first number\"))\n",
    "b=int(input(\"enter second number\"))\n",
    "c=int(input(\"enter third number\"))\n",
    "if(a>b and a>c):\n",
    "    print(x,\"is greter\")\n",
    "elif(b>c):\n",
    "    print(y,\"is greter\")\n",
    "else:\n",
    "    print(c,\"is greter\")"
   ]
  },
  {
   "cell_type": "code",
   "execution_count": 3,
   "id": "301a072b-cc3f-41dd-979a-8054a9586265",
   "metadata": {},
   "outputs": [
    {
     "name": "stdout",
     "output_type": "stream",
     "text": [
      "2\n",
      "9\n",
      "4\n",
      "7\n",
      "the multiplication is:= 504\n"
     ]
    }
   ],
   "source": [
    "#multiplication of number in list \n",
    "list1=[2,9,4,7]\n",
    "total=1\n",
    "for i in list1:\n",
    "    print(i)\n",
    "    total=total*i\n",
    "print(\"the multiplication is:=\",total)"
   ]
  },
  {
   "cell_type": "code",
   "execution_count": 1,
   "id": "5d7f4491-a065-44ca-a9be-af67572c01a0",
   "metadata": {},
   "outputs": [
    {
     "name": "stdin",
     "output_type": "stream",
     "text": [
      "enter any number 3\n"
     ]
    },
    {
     "name": "stdout",
     "output_type": "stream",
     "text": [
      "3\n",
      "6\n",
      "9\n",
      "12\n",
      "15\n",
      "18\n",
      "21\n",
      "24\n",
      "27\n"
     ]
    }
   ],
   "source": [
    "a=int(input(\"enter any number\"))\n",
    "i=1\n",
    "for i in range(1,10):\n",
    "    print(a*i)"
   ]
  },
  {
   "cell_type": "code",
   "execution_count": 2,
   "id": "fbeadc37-e2c0-4633-8b9f-ffdf2a194c64",
   "metadata": {},
   "outputs": [
    {
     "name": "stdin",
     "output_type": "stream",
     "text": [
      "enter any number 456\n"
     ]
    },
    {
     "name": "stdout",
     "output_type": "stream",
     "text": [
      "sum of digits is: 15\n"
     ]
    }
   ],
   "source": [
    "a=int(input(\"enter any number\"))\n",
    "sum_digits=0\n",
    "while(a>0):\n",
    "    digit=a%10\n",
    "    sum_digits+=digit\n",
    "    a=a//10\n",
    "print(\"sum of digits is:\", sum_digits)"
   ]
  },
  {
   "cell_type": "code",
   "execution_count": 3,
   "id": "c6768e50-b640-4cd3-9fc2-39d47ce1ea65",
   "metadata": {},
   "outputs": [
    {
     "name": "stdin",
     "output_type": "stream",
     "text": [
      "enter any number 17\n"
     ]
    },
    {
     "name": "stdout",
     "output_type": "stream",
     "text": [
      "17 is prime number\n"
     ]
    }
   ],
   "source": [
    "a=int(input(\"enter any number\"))\n",
    "for i in range(1,1):\n",
    "       if(a%i==0):\n",
    "           print(a,\"is not prime number\")\n",
    "else:\n",
    "    print(a,\"is prime number\")\n",
    "        "
   ]
  },
  {
   "cell_type": "code",
   "execution_count": 12,
   "id": "74d501f7-d263-429c-b492-713e70db44b0",
   "metadata": {},
   "outputs": [
    {
     "name": "stdout",
     "output_type": "stream",
     "text": [
      "@\n",
      "##\n",
      "@@@\n",
      "####\n",
      "@@@@@\n",
      "######\n"
     ]
    }
   ],
   "source": [
    "n=6\n",
    "for i in range(1,n+1):\n",
    "    if(i==1 or i==3 or i==5):\n",
    "        print(\"@\"*i)\n",
    "    elif(i==2 or i==4 or i==6):\n",
    "        print(\"#\"*i)\n",
    "    else:\n",
    "        print(\"result\")"
   ]
  },
  {
   "cell_type": "code",
   "execution_count": 13,
   "id": "48283498-6bee-45e9-aeeb-7aca2e87a4af",
   "metadata": {},
   "outputs": [
    {
     "name": "stdout",
     "output_type": "stream",
     "text": [
      "&\n",
      "&&\n",
      "&&&\n",
      "&&&&\n",
      "&&&&&\n",
      "&&&&&&\n",
      "&&&&&&&\n",
      "&&&&&&&&\n"
     ]
    }
   ],
   "source": [
    "n=8\n",
    "for i in range(1,n+1):\n",
    "    print(\"&\"*i)"
   ]
  },
  {
   "cell_type": "code",
   "execution_count": 17,
   "id": "816e8f7e-1f30-402d-aa0a-5693cb250407",
   "metadata": {},
   "outputs": [
    {
     "name": "stdout",
     "output_type": "stream",
     "text": [
      "sum is: 55\n"
     ]
    }
   ],
   "source": [
    "i=1\n",
    "sum=0\n",
    "while(i<=10):\n",
    "    sum+=i\n",
    "    i+=1\n",
    "print(\"sum is:\", sum)"
   ]
  },
  {
   "cell_type": "code",
   "execution_count": 21,
   "id": "e0b386bc-6b33-42ce-82d0-d7dfda885c31",
   "metadata": {},
   "outputs": [
    {
     "name": "stdout",
     "output_type": "stream",
     "text": [
      "20\n",
      "19\n",
      "18\n",
      "17\n",
      "16\n",
      "15\n",
      "14\n",
      "13\n",
      "12\n",
      "11\n",
      "10\n",
      "9\n",
      "8\n",
      "7\n",
      "6\n",
      "5\n",
      "4\n",
      "3\n",
      "2\n",
      "1\n",
      "surprise\n"
     ]
    }
   ],
   "source": [
    "#count down\n",
    "for i in range(20,0,-1):\n",
    "    print(i)\n",
    "print(\"surprise\")"
   ]
  },
  {
   "cell_type": "code",
   "execution_count": null,
   "id": "d705bab5-e3ab-47f4-b4a0-40b0eb29938e",
   "metadata": {},
   "outputs": [],
   "source": []
  }
 ],
 "metadata": {
  "kernelspec": {
   "display_name": "Python 3 (ipykernel)",
   "language": "python",
   "name": "python3"
  },
  "language_info": {
   "codemirror_mode": {
    "name": "ipython",
    "version": 3
   },
   "file_extension": ".py",
   "mimetype": "text/x-python",
   "name": "python",
   "nbconvert_exporter": "python",
   "pygments_lexer": "ipython3",
   "version": "3.13.5"
  }
 },
 "nbformat": 4,
 "nbformat_minor": 5
}
