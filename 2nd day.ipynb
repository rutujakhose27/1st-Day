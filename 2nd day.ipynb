{
 "cells": [
  {
   "cell_type": "code",
   "execution_count": 3,
   "id": "31907091-a1f2-4371-b0a1-5bbc8dbca5f1",
   "metadata": {},
   "outputs": [
    {
     "name": "stdout",
     "output_type": "stream",
     "text": [
      "you are eligible for voting\n"
     ]
    }
   ],
   "source": [
    "#write eligiblity of voting\n",
    "age=40\n",
    "if(age>=21):\n",
    "    print(\"you are eligible for voting\")\n",
    "else:\n",
    "    print(\"you are not eligible for voting\")"
   ]
  },
  {
   "cell_type": "code",
   "execution_count": 32,
   "id": "004658a5-4d59-449d-90fc-79d2b9af8694",
   "metadata": {},
   "outputs": [
    {
     "name": "stdout",
     "output_type": "stream",
     "text": [
      "complex number: (2-3j)\n"
     ]
    }
   ],
   "source": [
    "# write comple number\n",
    "c1=complex(5,6)\n",
    "c2=complex(2,-3)\n",
    "if(c1==1 and c2==1):\n",
    "    print(\"complex_number:\", c1)\n",
    "else:\n",
    "    print(\"complex number:\", c2)"
   ]
  },
  {
   "cell_type": "code",
   "execution_count": 38,
   "id": "91db0505-e132-466e-9ea7-7a546d1e3497",
   "metadata": {},
   "outputs": [
    {
     "name": "stdout",
     "output_type": "stream",
     "text": [
      "Addition: (7+3j)\n"
     ]
    }
   ],
   "source": [
    "#write addition of complex number\n",
    "c1=complex(5,6)\n",
    "c2=complex(2,-3)\n",
    "add=c1+c2\n",
    "if(add!=0):\n",
    "    print(\"Addition:\", add)\n",
    "else:\n",
    "    print(\"result\")\n",
    "    "
   ]
  },
  {
   "cell_type": "code",
   "execution_count": 40,
   "id": "d5f1283f-b8be-44ec-8127-c53e1edffd10",
   "metadata": {},
   "outputs": [
    {
     "name": "stdout",
     "output_type": "stream",
     "text": [
      "Subtraction: (3+9j)\n"
     ]
    }
   ],
   "source": [
    "#subtraction of complex number\n",
    "c1=complex(5,6)\n",
    "c2=complex(2,-3)\n",
    "sub=c1-c2\n",
    "if(sub!=0):\n",
    "    print(\"Subtraction:\", sub)\n",
    "else:\n",
    "    print(\"result\")"
   ]
  },
  {
   "cell_type": "code",
   "execution_count": 50,
   "id": "3a42d991-6e1b-4984-afd6-80767cbfdaf7",
   "metadata": {},
   "outputs": [
    {
     "name": "stdout",
     "output_type": "stream",
     "text": [
      "multiplication: (28-3j)\n"
     ]
    }
   ],
   "source": [
    "#Multiplication of complex number\n",
    "c1=complex(5,6)\n",
    "c2=complex(2,-3)\n",
    "mul=c1*c2\n",
    "if(mul!=0):\n",
    "    print(\"multiplication:\", mul)\n",
    "else:\n",
    "    print(\"result\")"
   ]
  },
  {
   "cell_type": "code",
   "execution_count": 43,
   "id": "b44ffcf3-dc13-4b6d-bb7c-ccff651f294d",
   "metadata": {},
   "outputs": [
    {
     "name": "stdout",
     "output_type": "stream",
     "text": [
      "Division: (-0.6153846153846155+2.076923076923077j)\n"
     ]
    }
   ],
   "source": [
    "#division of complex number\n",
    "c1=complex(5,6)\n",
    "c2=complex(2,-3)\n",
    "div=c1/c2\n",
    "if(div!=0):\n",
    "    print(\"Division:\", div)\n",
    "else:\n",
    "    print(\"result\")"
   ]
  },
  {
   "cell_type": "code",
   "execution_count": 44,
   "id": "b66dee5f-ea65-4ba8-87e2-2f2463acbb76",
   "metadata": {},
   "outputs": [
    {
     "name": "stdout",
     "output_type": "stream",
     "text": [
      "conjugate of: (2-3j) is (2+3j)\n"
     ]
    }
   ],
   "source": [
    "#conjugate of complex number\n",
    "c=complex(2,-3)\n",
    "print(\"conjugate of:\", c,\"is\", c.conjugate())"
   ]
  },
  {
   "cell_type": "code",
   "execution_count": 45,
   "id": "cd19fc2a-f19a-43a2-b730-56320c39eee9",
   "metadata": {},
   "outputs": [
    {
     "name": "stdout",
     "output_type": "stream",
     "text": [
      "conjugate: (5-6j)\n"
     ]
    }
   ],
   "source": [
    "c=complex(5,6)\n",
    "conj=c.conjugate()\n",
    "print(\"conjugate:\", conj)"
   ]
  },
  {
   "cell_type": "code",
   "execution_count": 48,
   "id": "13dfa197-e28d-4986-8e07-33cde158f09d",
   "metadata": {},
   "outputs": [
    {
     "name": "stdout",
     "output_type": "stream",
     "text": [
      "complex number: (5+6j) is 7.810249675906654\n"
     ]
    }
   ],
   "source": [
    "#modulus of complex number\n",
    "c=complex(5,6)\n",
    "modulus=abs(c)\n",
    "print(\"complex number:\", c, \"is\", modulus)"
   ]
  },
  {
   "cell_type": "code",
   "execution_count": 9,
   "id": "86e28ba5-7566-477f-9a9e-6fe72b8bd3d4",
   "metadata": {},
   "outputs": [
    {
     "name": "stdout",
     "output_type": "stream",
     "text": [
      "1 \n",
      "2 3 \n",
      "4 5 6 \n",
      "7 8 9 10 \n",
      "11 12 13 14 15 \n",
      "16 17 18 19 20 21 \n",
      "22 23 24 25 26 27 28 \n",
      "29 30 31 32 33 34 35 36 \n",
      "37 38 39 40 41 42 43 44 45 \n",
      "46 47 48 49 50 51 52 53 54 55 \n"
     ]
    }
   ],
   "source": [
    "#write a program\n",
    "#1\n",
    "#2 3\n",
    "#4 5 6\n",
    "#7 8 9 10\n",
    "#11 12 13 14 15\n",
    "#16 17 18 19 20 21\n",
    "#22 23 24 25 26 27 28\n",
    "#29 30 31 32 33 34 35 36\n",
    "#37 38 39 40 41 42 43 44 45\n",
    "#46 47 48 49 50 51 52 53 54 55\n",
    "z=1\n",
    "for i in range(1,11):\n",
    "    for j in range(1,i+1):\n",
    "        print(z,end=\" \")\n",
    "        z+=1\n",
    "    print()"
   ]
  },
  {
   "cell_type": "code",
   "execution_count": null,
   "id": "abf13143-fc8c-43e0-9ca3-b1ef86f71881",
   "metadata": {},
   "outputs": [],
   "source": []
  }
 ],
 "metadata": {
  "kernelspec": {
   "display_name": "Python 3 (ipykernel)",
   "language": "python",
   "name": "python3"
  },
  "language_info": {
   "codemirror_mode": {
    "name": "ipython",
    "version": 3
   },
   "file_extension": ".py",
   "mimetype": "text/x-python",
   "name": "python",
   "nbconvert_exporter": "python",
   "pygments_lexer": "ipython3",
   "version": "3.13.5"
  }
 },
 "nbformat": 4,
 "nbformat_minor": 5
}
